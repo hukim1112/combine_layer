{
 "cells": [
  {
   "cell_type": "code",
   "execution_count": 132,
   "metadata": {},
   "outputs": [],
   "source": [
    "import os\n",
    "from psd_tools import PSDImage\n",
    "import psd_tools\n",
    "import pytoshop\n",
    "from pytoshop.user import nested_layers"
   ]
  },
  {
   "cell_type": "code",
   "execution_count": 133,
   "metadata": {},
   "outputs": [],
   "source": [
    "bg_path = './background'\n",
    "bc_path = './bottom_color'\n",
    "result_path = './result'"
   ]
  },
  {
   "cell_type": "code",
   "execution_count": 134,
   "metadata": {},
   "outputs": [],
   "source": [
    "bg_filelist = os.listdir(bg_path)"
   ]
  },
  {
   "cell_type": "code",
   "execution_count": 135,
   "metadata": {},
   "outputs": [
    {
     "data": {
      "text/plain": [
       "['004.psd', '001.psd', '005.psd', '003.psd']"
      ]
     },
     "execution_count": 135,
     "metadata": {},
     "output_type": "execute_result"
    }
   ],
   "source": [
    "bg_filelist"
   ]
  },
  {
   "cell_type": "code",
   "execution_count": 136,
   "metadata": {},
   "outputs": [],
   "source": [
    "with open(os.path.join(bg_path, '004.psd'), 'rb') as fd:\n",
    "    psd = pytoshop.read(fd)"
   ]
  },
  {
   "cell_type": "code",
   "execution_count": 137,
   "metadata": {},
   "outputs": [
    {
     "data": {
      "text/plain": [
       "3"
      ]
     },
     "execution_count": 137,
     "metadata": {},
     "output_type": "execute_result"
    }
   ],
   "source": [
    "psd._color_mode"
   ]
  },
  {
   "cell_type": "code",
   "execution_count": 138,
   "metadata": {},
   "outputs": [],
   "source": [
    "nested = nested_layers.psd_to_nested_layers(psd)"
   ]
  },
  {
   "cell_type": "code",
   "execution_count": null,
   "metadata": {},
   "outputs": [],
   "source": []
  },
  {
   "cell_type": "code",
   "execution_count": 163,
   "metadata": {},
   "outputs": [
    {
     "data": {
      "text/plain": [
       "[<pytoshop.user.nested_layers.Image at 0x7f28cae126d8>,\n",
       " <pytoshop.user.nested_layers.Image at 0x7f28cae125f8>,\n",
       " <pytoshop.user.nested_layers.Image at 0x7f28cae127b8>]"
      ]
     },
     "execution_count": 163,
     "metadata": {},
     "output_type": "execute_result"
    }
   ],
   "source": [
    "nested[3].layers"
   ]
  },
  {
   "cell_type": "code",
   "execution_count": 140,
   "metadata": {},
   "outputs": [
    {
     "data": {
      "text/plain": [
       "[<pytoshop.user.nested_layers.Image at 0x7f28cae12588>,\n",
       " <pytoshop.user.nested_layers.Image at 0x7f28cae123c8>,\n",
       " <pytoshop.user.nested_layers.Image at 0x7f28cae12400>,\n",
       " <pytoshop.user.nested_layers.Image at 0x7f28cae12438>,\n",
       " <pytoshop.user.nested_layers.Image at 0x7f28cae124a8>,\n",
       " <pytoshop.user.nested_layers.Image at 0x7f28cae12470>]"
      ]
     },
     "execution_count": 140,
     "metadata": {},
     "output_type": "execute_result"
    }
   ],
   "source": [
    "nested[8].layers"
   ]
  },
  {
   "cell_type": "code",
   "execution_count": 141,
   "metadata": {},
   "outputs": [
    {
     "data": {
      "text/plain": [
       "[<pytoshop.user.nested_layers.Image at 0x7f28cae123c8>,\n",
       " <pytoshop.user.nested_layers.Image at 0x7f28cae12400>,\n",
       " <pytoshop.user.nested_layers.Image at 0x7f28cae12438>,\n",
       " <pytoshop.user.nested_layers.Image at 0x7f28cae124a8>,\n",
       " <pytoshop.user.nested_layers.Image at 0x7f28cae12470>]"
      ]
     },
     "execution_count": 141,
     "metadata": {},
     "output_type": "execute_result"
    }
   ],
   "source": [
    "del nested[8].layers[0]\n",
    "nested[8].layers"
   ]
  },
  {
   "cell_type": "code",
   "execution_count": 145,
   "metadata": {},
   "outputs": [],
   "source": [
    "with open(os.path.join(bg_path, '004.psd'), 'rb') as fd:\n",
    "    psd = pytoshop.read(fd)\n",
    "    nested = nested_layers.psd_to_nested_layers(psd)\n",
    "    del nested[8].layers[0]\n",
    "    nested[8].layers\n",
    "    \n",
    "    psd = nested_layers.nested_layers_to_psd(nested, psd._color_mode)\n",
    "    \n",
    "    \n",
    "    \n",
    "    with open('updated.psd', 'wb') as fd:\n",
    "        psd.write(fd)\n"
   ]
  },
  {
   "cell_type": "code",
   "execution_count": 147,
   "metadata": {},
   "outputs": [
    {
     "name": "stdout",
     "output_type": "stream",
     "text": [
      "[<pytoshop.user.nested_layers.Image object at 0x7f28cae80ef0>, <pytoshop.user.nested_layers.Image object at 0x7f28cae80358>, <pytoshop.user.nested_layers.Image object at 0x7f28cae83470>, <pytoshop.user.nested_layers.Image object at 0x7f28caeda780>, <pytoshop.user.nested_layers.Image object at 0x7f28caedaa58>]\n"
     ]
    }
   ],
   "source": [
    "with open(os.path.join('updated.psd'), 'rb') as fd:\n",
    "    psd = pytoshop.read(fd)\n",
    "    nested = nested_layers.psd_to_nested_layers(psd)\n",
    "    print(nested[8].layers)"
   ]
  },
  {
   "cell_type": "code",
   "execution_count": null,
   "metadata": {},
   "outputs": [],
   "source": []
  },
  {
   "cell_type": "code",
   "execution_count": null,
   "metadata": {},
   "outputs": [],
   "source": []
  },
  {
   "cell_type": "code",
   "execution_count": null,
   "metadata": {},
   "outputs": [],
   "source": []
  },
  {
   "cell_type": "code",
   "execution_count": null,
   "metadata": {},
   "outputs": [],
   "source": []
  },
  {
   "cell_type": "code",
   "execution_count": 188,
   "metadata": {},
   "outputs": [],
   "source": [
    "bg_path = './background'\n",
    "bc_path = './bottom_color'\n",
    "result_path = './result'"
   ]
  },
  {
   "cell_type": "code",
   "execution_count": 189,
   "metadata": {},
   "outputs": [],
   "source": [
    "for file in os.listdir(bg_path):\n",
    "    with open(os.path.join(bg_path, file) ,'rb') as fd:\n",
    "        bg_psd = pytoshop.read(fd)\n",
    "        bg_nested = nested_layers.psd_to_nested_layers(bg_psd)\n",
    "        for l in bg_nested:\n",
    "            if l._name == 'bg':\n",
    "                bg_group = l\n",
    "        with open(os.path.join(bc_path, file) , 'rb') as fd:\n",
    "            bc_psd = pytoshop.read(fd)\n",
    "            bc_nested = nested_layers.psd_to_nested_layers(bc_psd)\n",
    "            bc_nested.insert(len(bc_nested)-1, bg_group)\n",
    "\n",
    "            with open(os.path.join(result_path, file), 'wb') as fd:\n",
    "                bc_psd = nested_layers.nested_layers_to_psd(bc_nested, bc_psd._color_mode)\n",
    "                bc_psd.write(fd)"
   ]
  },
  {
   "cell_type": "code",
   "execution_count": 190,
   "metadata": {},
   "outputs": [
    {
     "name": "stdout",
     "output_type": "stream",
     "text": [
      "테두리정리\n",
      "설명\n",
      "Group 2\n",
      "인물색\n",
      "스케치업 + 하늘\n",
      "배경\n",
      "bg\n",
      "Background\n"
     ]
    }
   ],
   "source": [
    "for file in os.listdir(result_path):\n",
    "    with open(os.path.join(result_path, file) ,'rb') as fd:\n",
    "        psd = pytoshop.read(fd)\n",
    "        result_nested = nested_layers.psd_to_nested_layers(psd)\n",
    "        for l in result_nested:\n",
    "            print(l._name)"
   ]
  },
  {
   "cell_type": "code",
   "execution_count": null,
   "metadata": {},
   "outputs": [],
   "source": [
    "with open(os.path.join(bg_path, '004.psd'), 'rb') as fd:\n",
    "    psd = pytoshop.read(fd)\n",
    "    nested = nested_layers.psd_to_nested_layers(psd)\n",
    "    del nested[8].layers[0]\n",
    "    nested[8].layers\n",
    "    \n",
    "    psd = nested_layers.nested_layers_to_psd(nested, psd._color_mode)\n",
    "    \n",
    "    \n",
    "    \n",
    "    with open('updated.psd', 'wb') as fd:\n",
    "        psd.write(fd)\n"
   ]
  },
  {
   "cell_type": "code",
   "execution_count": null,
   "metadata": {},
   "outputs": [],
   "source": []
  },
  {
   "cell_type": "code",
   "execution_count": null,
   "metadata": {},
   "outputs": [],
   "source": []
  },
  {
   "cell_type": "code",
   "execution_count": null,
   "metadata": {},
   "outputs": [],
   "source": []
  }
 ],
 "metadata": {
  "kernelspec": {
   "display_name": "tf1.6p3",
   "language": "python",
   "name": "tf1.6p3"
  },
  "language_info": {
   "codemirror_mode": {
    "name": "ipython",
    "version": 3
   },
   "file_extension": ".py",
   "mimetype": "text/x-python",
   "name": "python",
   "nbconvert_exporter": "python",
   "pygments_lexer": "ipython3",
   "version": "3.6.5"
  }
 },
 "nbformat": 4,
 "nbformat_minor": 2
}
